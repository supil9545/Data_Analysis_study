{
 "cells": [
  {
   "cell_type": "code",
   "execution_count": 9,
   "id": "sacred-disclaimer",
   "metadata": {},
   "outputs": [],
   "source": [
    "import json\n",
    "import pandas as pd\n",
    "import warnings"
   ]
  },
  {
   "cell_type": "code",
   "execution_count": 10,
   "id": "hairy-anxiety",
   "metadata": {},
   "outputs": [],
   "source": [
    "warnings.filterwarnings(action='ignore')"
   ]
  },
  {
   "cell_type": "code",
   "execution_count": 2,
   "id": "ranking-clearance",
   "metadata": {},
   "outputs": [],
   "source": [
    "data = []\n",
    "mydf = pd.DataFrame()"
   ]
  },
  {
   "cell_type": "code",
   "execution_count": 3,
   "id": "stupid-peeing",
   "metadata": {},
   "outputs": [],
   "source": [
    "json_path = 'songhunhwa.github.com\\\\tutorial\\\\tutorial_01\\\\ds_tutorial_json.json'"
   ]
  },
  {
   "cell_type": "code",
   "execution_count": 4,
   "id": "different-natural",
   "metadata": {},
   "outputs": [],
   "source": [
    "with open(json_path) as f:\n",
    "    for line in f:\n",
    "        data.append(json.loads(line))\n",
    "        \n",
    "    for i in range(0, len(data)):\n",
    "        df = pd.DataFrame.from_dict([data[i]])\n",
    "        mydf = mydf.append(df)"
   ]
  },
  {
   "cell_type": "code",
   "execution_count": 5,
   "id": "pediatric-uruguay",
   "metadata": {},
   "outputs": [],
   "source": [
    "mydf.reset_index(drop=True, inplace = True)"
   ]
  },
  {
   "cell_type": "code",
   "execution_count": 6,
   "id": "committed-rover",
   "metadata": {},
   "outputs": [],
   "source": [
    "mydf['date'] = pd.to_datetime(mydf['date'], unit = 's').dt.date\n",
    "mydf['date'] = mydf['date'].astype('datetime64[ns]')"
   ]
  },
  {
   "cell_type": "code",
   "execution_count": 7,
   "id": "noted-penetration",
   "metadata": {},
   "outputs": [
    {
     "data": {
      "text/html": [
       "<div>\n",
       "<style scoped>\n",
       "    .dataframe tbody tr th:only-of-type {\n",
       "        vertical-align: middle;\n",
       "    }\n",
       "\n",
       "    .dataframe tbody tr th {\n",
       "        vertical-align: top;\n",
       "    }\n",
       "\n",
       "    .dataframe thead th {\n",
       "        text-align: right;\n",
       "    }\n",
       "</style>\n",
       "<table border=\"1\" class=\"dataframe\">\n",
       "  <thead>\n",
       "    <tr style=\"text-align: right;\">\n",
       "      <th></th>\n",
       "      <th>date</th>\n",
       "      <th>memno</th>\n",
       "      <th>screen</th>\n",
       "      <th>event</th>\n",
       "      <th>ver</th>\n",
       "      <th>area</th>\n",
       "      <th>group</th>\n",
       "    </tr>\n",
       "  </thead>\n",
       "  <tbody>\n",
       "    <tr>\n",
       "      <th>0</th>\n",
       "      <td>2017-11-29</td>\n",
       "      <td>1101</td>\n",
       "      <td>intro</td>\n",
       "      <td>view</td>\n",
       "      <td>0.1</td>\n",
       "      <td>seoul</td>\n",
       "      <td>a</td>\n",
       "    </tr>\n",
       "    <tr>\n",
       "      <th>1</th>\n",
       "      <td>2017-11-29</td>\n",
       "      <td>1101</td>\n",
       "      <td>intro</td>\n",
       "      <td>view</td>\n",
       "      <td>0.2</td>\n",
       "      <td>taegu</td>\n",
       "      <td>a</td>\n",
       "    </tr>\n",
       "    <tr>\n",
       "      <th>2</th>\n",
       "      <td>2017-11-29</td>\n",
       "      <td>1102</td>\n",
       "      <td>detail</td>\n",
       "      <td>view</td>\n",
       "      <td>0.2</td>\n",
       "      <td>gyenggi</td>\n",
       "      <td>b</td>\n",
       "    </tr>\n",
       "    <tr>\n",
       "      <th>3</th>\n",
       "      <td>2017-11-29</td>\n",
       "      <td>1102</td>\n",
       "      <td>detail</td>\n",
       "      <td>clk</td>\n",
       "      <td>0.2</td>\n",
       "      <td>seoul</td>\n",
       "      <td>b</td>\n",
       "    </tr>\n",
       "    <tr>\n",
       "      <th>4</th>\n",
       "      <td>2017-11-29</td>\n",
       "      <td>1102</td>\n",
       "      <td>main</td>\n",
       "      <td>clk</td>\n",
       "      <td>0.2</td>\n",
       "      <td>seoul</td>\n",
       "      <td>c</td>\n",
       "    </tr>\n",
       "  </tbody>\n",
       "</table>\n",
       "</div>"
      ],
      "text/plain": [
       "        date memno  screen event  ver     area group\n",
       "0 2017-11-29  1101   intro  view  0.1    seoul     a\n",
       "1 2017-11-29  1101   intro  view  0.2    taegu     a\n",
       "2 2017-11-29  1102  detail  view  0.2  gyenggi     b\n",
       "3 2017-11-29  1102  detail   clk  0.2    seoul     b\n",
       "4 2017-11-29  1102    main   clk  0.2    seoul     c"
      ]
     },
     "execution_count": 7,
     "metadata": {},
     "output_type": "execute_result"
    }
   ],
   "source": [
    "mydf.head()"
   ]
  },
  {
   "cell_type": "code",
   "execution_count": 11,
   "id": "greater-click",
   "metadata": {},
   "outputs": [
    {
     "data": {
      "text/html": [
       "<div>\n",
       "<style scoped>\n",
       "    .dataframe tbody tr th:only-of-type {\n",
       "        vertical-align: middle;\n",
       "    }\n",
       "\n",
       "    .dataframe tbody tr th {\n",
       "        vertical-align: top;\n",
       "    }\n",
       "\n",
       "    .dataframe thead th {\n",
       "        text-align: right;\n",
       "    }\n",
       "</style>\n",
       "<table border=\"1\" class=\"dataframe\">\n",
       "  <thead>\n",
       "    <tr style=\"text-align: right;\">\n",
       "      <th></th>\n",
       "      <th>date</th>\n",
       "      <th>memno</th>\n",
       "      <th>screen</th>\n",
       "      <th>event</th>\n",
       "      <th>ver</th>\n",
       "      <th>area</th>\n",
       "      <th>group</th>\n",
       "    </tr>\n",
       "  </thead>\n",
       "  <tbody>\n",
       "    <tr>\n",
       "      <th>count</th>\n",
       "      <td>120</td>\n",
       "      <td>120</td>\n",
       "      <td>120</td>\n",
       "      <td>120</td>\n",
       "      <td>120</td>\n",
       "      <td>120</td>\n",
       "      <td>120</td>\n",
       "    </tr>\n",
       "    <tr>\n",
       "      <th>unique</th>\n",
       "      <td>4</td>\n",
       "      <td>11</td>\n",
       "      <td>5</td>\n",
       "      <td>2</td>\n",
       "      <td>3</td>\n",
       "      <td>3</td>\n",
       "      <td>5</td>\n",
       "    </tr>\n",
       "    <tr>\n",
       "      <th>top</th>\n",
       "      <td>2017-11-29 00:00:00</td>\n",
       "      <td>1102</td>\n",
       "      <td>detail</td>\n",
       "      <td>clk</td>\n",
       "      <td>0.2</td>\n",
       "      <td>gyenggi</td>\n",
       "      <td>d</td>\n",
       "    </tr>\n",
       "    <tr>\n",
       "      <th>freq</th>\n",
       "      <td>36</td>\n",
       "      <td>32</td>\n",
       "      <td>68</td>\n",
       "      <td>68</td>\n",
       "      <td>104</td>\n",
       "      <td>64</td>\n",
       "      <td>48</td>\n",
       "    </tr>\n",
       "    <tr>\n",
       "      <th>first</th>\n",
       "      <td>2017-11-26 00:00:00</td>\n",
       "      <td>NaN</td>\n",
       "      <td>NaN</td>\n",
       "      <td>NaN</td>\n",
       "      <td>NaN</td>\n",
       "      <td>NaN</td>\n",
       "      <td>NaN</td>\n",
       "    </tr>\n",
       "    <tr>\n",
       "      <th>last</th>\n",
       "      <td>2017-11-29 00:00:00</td>\n",
       "      <td>NaN</td>\n",
       "      <td>NaN</td>\n",
       "      <td>NaN</td>\n",
       "      <td>NaN</td>\n",
       "      <td>NaN</td>\n",
       "      <td>NaN</td>\n",
       "    </tr>\n",
       "  </tbody>\n",
       "</table>\n",
       "</div>"
      ],
      "text/plain": [
       "                       date memno  screen event  ver     area group\n",
       "count                   120   120     120   120  120      120   120\n",
       "unique                    4    11       5     2    3        3     5\n",
       "top     2017-11-29 00:00:00  1102  detail   clk  0.2  gyenggi     d\n",
       "freq                     36    32      68    68  104       64    48\n",
       "first   2017-11-26 00:00:00   NaN     NaN   NaN  NaN      NaN   NaN\n",
       "last    2017-11-29 00:00:00   NaN     NaN   NaN  NaN      NaN   NaN"
      ]
     },
     "execution_count": 11,
     "metadata": {},
     "output_type": "execute_result"
    }
   ],
   "source": [
    "mydf.describe()"
   ]
  }
 ],
 "metadata": {
  "hide_input": false,
  "kernelspec": {
   "display_name": "Python 3",
   "language": "python",
   "name": "python3"
  },
  "language_info": {
   "codemirror_mode": {
    "name": "ipython",
    "version": 3
   },
   "file_extension": ".py",
   "mimetype": "text/x-python",
   "name": "python",
   "nbconvert_exporter": "python",
   "pygments_lexer": "ipython3",
   "version": "3.7.10"
  }
 },
 "nbformat": 4,
 "nbformat_minor": 5
}
