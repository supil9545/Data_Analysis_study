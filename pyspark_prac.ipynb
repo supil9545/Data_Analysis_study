{
 "cells": [
  {
   "cell_type": "markdown",
   "id": "technological-bookmark",
   "metadata": {},
   "source": [
    "## import modules"
   ]
  },
  {
   "cell_type": "code",
   "execution_count": 7,
   "id": "neural-setting",
   "metadata": {},
   "outputs": [],
   "source": [
    "from pyspark.sql import SQLContext\n",
    "from pyspark.sql.functions import *\n",
    "import pandas as pd\n",
    "import numpy as np"
   ]
  },
  {
   "cell_type": "code",
   "execution_count": 8,
   "id": "systematic-michigan",
   "metadata": {},
   "outputs": [],
   "source": [
    "sc = SparkContext()\n",
    "sqlContext = SQLContext(sc)"
   ]
  },
  {
   "cell_type": "markdown",
   "id": "excellent-morris",
   "metadata": {},
   "source": [
    "## read csv with library"
   ]
  },
  {
   "cell_type": "code",
   "execution_count": 11,
   "id": "detailed-simpson",
   "metadata": {
    "scrolled": true
   },
   "outputs": [],
   "source": [
    "df = sqlContext.read.format('com.databricks.spark.csv')\\\n",
    "                    .options(header = 'true', inferSchema = 'true')\\\n",
    "                    .load('songhunhwa.github.com\\\\tutorial\\\\tutorial_01\\\\doc_use_log.csv')\\\n",
    "                    .cache()"
   ]
  },
  {
   "cell_type": "code",
   "execution_count": 12,
   "id": "tropical-shelter",
   "metadata": {},
   "outputs": [
    {
     "name": "stdout",
     "output_type": "stream",
     "text": [
      "root\n",
      " |-- actiontype: string (nullable = true)\n",
      " |-- ismydoc: boolean (nullable = true)\n",
      " |-- ext: string (nullable = true)\n",
      " |-- sessionid: string (nullable = true)\n",
      " |-- documentposition: string (nullable = true)\n",
      " |-- datetime: string (nullable = true)\n",
      "\n"
     ]
    }
   ],
   "source": [
    "df.printSchema()"
   ]
  },
  {
   "cell_type": "code",
   "execution_count": 13,
   "id": "least-relaxation",
   "metadata": {},
   "outputs": [
    {
     "data": {
      "text/plain": [
       "301861"
      ]
     },
     "execution_count": 13,
     "metadata": {},
     "output_type": "execute_result"
    }
   ],
   "source": [
    "df.count()"
   ]
  },
  {
   "cell_type": "markdown",
   "id": "indoor-virus",
   "metadata": {},
   "source": [
    "## convert df to tmp table ( if in database)"
   ]
  },
  {
   "cell_type": "code",
   "execution_count": 14,
   "id": "concerned-skating",
   "metadata": {},
   "outputs": [],
   "source": [
    "df.registerTempTable(\"df_tmp\")"
   ]
  },
  {
   "cell_type": "markdown",
   "id": "objective-mailing",
   "metadata": {},
   "source": [
    "## extract data from table with sql"
   ]
  },
  {
   "cell_type": "code",
   "execution_count": 15,
   "id": "grave-regard",
   "metadata": {},
   "outputs": [],
   "source": [
    "df1 = sqlContext.sql(\"select ismydoc, actiontype, sessionid, datetime from df_tmp where ismydoc = true\")"
   ]
  },
  {
   "cell_type": "markdown",
   "id": "private-terrain",
   "metadata": {},
   "source": [
    "## other sql examples"
   ]
  },
  {
   "cell_type": "code",
   "execution_count": 19,
   "id": "exceptional-checkout",
   "metadata": {
    "scrolled": false
   },
   "outputs": [
    {
     "name": "stdout",
     "output_type": "stream",
     "text": [
      "+---------+--------+\n",
      "| datetime|count(1)|\n",
      "+---------+--------+\n",
      "| 2016.7.1|   11836|\n",
      "|2016.7.10|    6750|\n",
      "|2016.7.11|   10075|\n",
      "|2016.7.12|   12340|\n",
      "|2016.7.13|   12159|\n",
      "|2016.7.14|   11721|\n",
      "|2016.7.15|   11057|\n",
      "|2016.7.16|    8513|\n",
      "|2016.7.17|    6906|\n",
      "|2016.7.18|    9987|\n",
      "|2016.7.19|   11872|\n",
      "| 2016.7.2|    8884|\n",
      "|2016.7.20|   11912|\n",
      "|2016.7.21|   11599|\n",
      "|2016.7.22|   11250|\n",
      "|2016.7.23|    8390|\n",
      "|2016.7.24|    6813|\n",
      "|2016.7.25|   10081|\n",
      "|2016.7.26|   12034|\n",
      "|2016.7.27|   11593|\n",
      "+---------+--------+\n",
      "only showing top 20 rows\n",
      "\n"
     ]
    }
   ],
   "source": [
    "sqlContext.sql(\"select datetime, count(1) from df_tmp group by datetime  order by datetime\").show()"
   ]
  },
  {
   "cell_type": "code",
   "execution_count": 20,
   "id": "detailed-degree",
   "metadata": {},
   "outputs": [
    {
     "name": "stdout",
     "output_type": "stream",
     "text": [
      "+-----------+\n",
      "|session_cnt|\n",
      "+-----------+\n",
      "|       5383|\n",
      "|       2172|\n",
      "|       1155|\n",
      "|          1|\n",
      "|       2260|\n",
      "|       1502|\n",
      "|          3|\n",
      "|       1669|\n",
      "|          1|\n",
      "|       5860|\n",
      "|       6184|\n",
      "|       1304|\n",
      "|        390|\n",
      "|         47|\n",
      "+-----------+\n",
      "\n"
     ]
    }
   ],
   "source": [
    "sqlContext.sql(\"select count(distinct sessionid) as session_cnt from df_tmp where documentposition = 'MYPOLARISDRIVE' group by ext having count(distinct sessionid) \").show()"
   ]
  },
  {
   "cell_type": "code",
   "execution_count": 21,
   "id": "ready-limit",
   "metadata": {},
   "outputs": [
    {
     "name": "stdout",
     "output_type": "stream",
     "text": [
      "301861\n",
      "118732\n"
     ]
    }
   ],
   "source": [
    "print(df.count())\n",
    "print(df1.count())"
   ]
  },
  {
   "cell_type": "markdown",
   "id": "corresponding-weather",
   "metadata": {},
   "source": [
    "## Lazy Execution"
   ]
  },
  {
   "cell_type": "code",
   "execution_count": 22,
   "id": "neural-celebrity",
   "metadata": {},
   "outputs": [],
   "source": [
    "df2 = sqlContext.sql(\"select * from df_tmp\")"
   ]
  },
  {
   "cell_type": "code",
   "execution_count": 31,
   "id": "working-sailing",
   "metadata": {},
   "outputs": [
    {
     "data": {
      "text/plain": [
       "301833"
      ]
     },
     "execution_count": 31,
     "metadata": {},
     "output_type": "execute_result"
    }
   ],
   "source": [
    "df2_pdf = df2.select(\"sessionid\", \"ext\").filter(\" ext == 'PDF' or ext == 'DOC'\").dropDuplicates().cache()\n",
    "df2.distinct().count()"
   ]
  },
  {
   "cell_type": "code",
   "execution_count": 32,
   "id": "utility-necklace",
   "metadata": {},
   "outputs": [
    {
     "data": {
      "text/plain": [
       "301861"
      ]
     },
     "execution_count": 32,
     "metadata": {},
     "output_type": "execute_result"
    }
   ],
   "source": [
    "df2.count()"
   ]
  },
  {
   "cell_type": "code",
   "execution_count": 34,
   "id": "younger-north",
   "metadata": {},
   "outputs": [
    {
     "name": "stdout",
     "output_type": "stream",
     "text": [
      "+--------------------+---------+\n",
      "|           sessionid| min_date|\n",
      "+--------------------+---------+\n",
      "|000ad8bfdff1ac4ab...|2016.7.17|\n",
      "|008e1cb0462257ec9...| 2016.7.3|\n",
      "|013f6c2b225e3367d...|2016.7.13|\n",
      "|01ef158e70ef4ce7b...| 2016.7.9|\n",
      "|02bb1592965d0dd8c...|2016.7.20|\n",
      "|03288dde777589053...| 2016.7.6|\n",
      "|0376d4749a8d1d710...|2016.7.24|\n",
      "|0378158b8aee19123...| 2016.7.1|\n",
      "|045c6e82a181152ae...|2016.7.27|\n",
      "|04917f8f10bf22dab...|2016.7.21|\n",
      "|04e0324d6a64c743d...|2016.7.19|\n",
      "|050a25d3b0bf9081e...|2016.7.20|\n",
      "|057cd5d22a7ebcf2b...|2016.7.28|\n",
      "|05b3df1764b2f8435...|2016.7.13|\n",
      "|06554b488500b58ea...|2016.7.15|\n",
      "|065f2825395cd914f...|2016.7.21|\n",
      "|07bdb289d126fa929...| 2016.7.6|\n",
      "|082e52a48bc92a8fa...|2016.7.29|\n",
      "|08f38ff50c2401683...|2016.7.28|\n",
      "|09a604c8fe3d4e3c9...|2016.7.25|\n",
      "+--------------------+---------+\n",
      "only showing top 20 rows\n",
      "\n"
     ]
    }
   ],
   "source": [
    "df2_min_date = df2.groupby(\"sessionid\").agg(min(\"datetime\").alias(\"min_date\"))\n",
    "df2_min_date.show()"
   ]
  },
  {
   "cell_type": "code",
   "execution_count": 35,
   "id": "sonic-korea",
   "metadata": {},
   "outputs": [
    {
     "name": "stdout",
     "output_type": "stream",
     "text": [
      "+--------------------+---+---------+\n",
      "|           sessionid|ext| min_date|\n",
      "+--------------------+---+---------+\n",
      "|008e1cb0462257ec9...|PDF| 2016.7.3|\n",
      "|013f6c2b225e3367d...|PDF|2016.7.13|\n",
      "|02bb1592965d0dd8c...|DOC|2016.7.20|\n",
      "|0376d4749a8d1d710...|DOC|2016.7.24|\n",
      "|045c6e82a181152ae...|PDF|2016.7.27|\n",
      "|050a25d3b0bf9081e...|PDF|2016.7.20|\n",
      "|07bdb289d126fa929...|PDF| 2016.7.6|\n",
      "|09a604c8fe3d4e3c9...|PDF|2016.7.25|\n",
      "|0ceec7faa5315de34...|PDF| 2016.7.1|\n",
      "|0db9b1d879a02aa5f...|PDF|2016.7.26|\n",
      "|1096ac872ebf5b378...|PDF| 2016.7.5|\n",
      "|11818d845e6a3a47a...|PDF|2016.7.28|\n",
      "|1327ad759f8b306a7...|PDF|2016.7.15|\n",
      "|1423841b1a4dba316...|PDF|2016.7.27|\n",
      "|14e0f6e63b439b494...|PDF|2016.7.12|\n",
      "|176b49ac47de89ed0...|PDF|2016.7.30|\n",
      "|1795fea8fd01ec520...|PDF| 2016.7.9|\n",
      "|182b43429e15f51aa...|PDF|2016.7.13|\n",
      "|188aa9d6215c41e4a...|PDF| 2016.7.5|\n",
      "|1aff8c39db429f402...|PDF|2016.7.18|\n",
      "+--------------------+---+---------+\n",
      "only showing top 20 rows\n",
      "\n"
     ]
    }
   ],
   "source": [
    "df2_join = df2_pdf.join(df2_min_date, \"sessionid\", \"left\")\n",
    "df2_join.show()"
   ]
  },
  {
   "cell_type": "code",
   "execution_count": 36,
   "id": "artistic-painting",
   "metadata": {},
   "outputs": [],
   "source": [
    "df2_join1 = df2_join.groupby(\"min_date\", \"ext\").agg(count(\"sessionid\").alias(\"cnt\"))"
   ]
  },
  {
   "cell_type": "code",
   "execution_count": 37,
   "id": "visible-blond",
   "metadata": {},
   "outputs": [
    {
     "name": "stdout",
     "output_type": "stream",
     "text": [
      "+-------+--------+----+-----------------+\n",
      "|summary|min_date| ext|              cnt|\n",
      "+-------+--------+----+-----------------+\n",
      "|  count|      60|  60|               60|\n",
      "|   mean|    null|null|809.6333333333333|\n",
      "| stddev|    null|null|473.5906108303528|\n",
      "|    min|2016.7.1| DOC|              231|\n",
      "|    max|2016.7.9| PDF|             1503|\n",
      "+-------+--------+----+-----------------+\n",
      "\n"
     ]
    }
   ],
   "source": [
    "df2_join1.describe().show()"
   ]
  },
  {
   "cell_type": "markdown",
   "id": "intermediate-deputy",
   "metadata": {},
   "source": [
    "## Pandas"
   ]
  },
  {
   "cell_type": "code",
   "execution_count": 38,
   "id": "intensive-basketball",
   "metadata": {},
   "outputs": [
    {
     "data": {
      "text/plain": [
       "PDF      82004\n",
       "DOCX     58303\n",
       "XLSX     52118\n",
       "HWP      26244\n",
       "DOC      24586\n",
       "XLS      24489\n",
       "PPTX     15385\n",
       "TXT       9814\n",
       "PPT       5382\n",
       "PPSX      2374\n",
       "ODT        820\n",
       "PPS        324\n",
       "JPG          9\n",
       "SHEET        5\n",
       "WORD         2\n",
       "PNG          2\n",
       "Name: ext, dtype: int64"
      ]
     },
     "execution_count": 38,
     "metadata": {},
     "output_type": "execute_result"
    }
   ],
   "source": [
    "df2_pd = df2.toPandas()\n",
    "df2_pd.groupby(\"ext\")['sessionid'].count().sort_values(ascending=False)\n",
    "df2_pd['ext'].value_counts()"
   ]
  },
  {
   "cell_type": "code",
   "execution_count": 40,
   "id": "surprised-deadline",
   "metadata": {
    "scrolled": true
   },
   "outputs": [
    {
     "data": {
      "text/html": [
       "<div>\n",
       "<style scoped>\n",
       "    .dataframe tbody tr th:only-of-type {\n",
       "        vertical-align: middle;\n",
       "    }\n",
       "\n",
       "    .dataframe tbody tr th {\n",
       "        vertical-align: top;\n",
       "    }\n",
       "\n",
       "    .dataframe thead th {\n",
       "        text-align: right;\n",
       "    }\n",
       "</style>\n",
       "<table border=\"1\" class=\"dataframe\">\n",
       "  <thead>\n",
       "    <tr style=\"text-align: right;\">\n",
       "      <th></th>\n",
       "      <th>actiontype</th>\n",
       "      <th>ismydoc</th>\n",
       "      <th>ext</th>\n",
       "      <th>sessionid</th>\n",
       "      <th>documentposition</th>\n",
       "      <th>datetime</th>\n",
       "    </tr>\n",
       "  </thead>\n",
       "  <tbody>\n",
       "    <tr>\n",
       "      <th>count</th>\n",
       "      <td>301861</td>\n",
       "      <td>301861</td>\n",
       "      <td>301861</td>\n",
       "      <td>301861</td>\n",
       "      <td>301861</td>\n",
       "      <td>301861</td>\n",
       "    </tr>\n",
       "    <tr>\n",
       "      <th>unique</th>\n",
       "      <td>8</td>\n",
       "      <td>2</td>\n",
       "      <td>16</td>\n",
       "      <td>114994</td>\n",
       "      <td>7</td>\n",
       "      <td>30</td>\n",
       "    </tr>\n",
       "    <tr>\n",
       "      <th>top</th>\n",
       "      <td>OPEN</td>\n",
       "      <td>False</td>\n",
       "      <td>PDF</td>\n",
       "      <td>6d4da731443c11cdd5bb986c58381172</td>\n",
       "      <td>OTHERAPP</td>\n",
       "      <td>2016.7.12</td>\n",
       "    </tr>\n",
       "    <tr>\n",
       "      <th>freq</th>\n",
       "      <td>151802</td>\n",
       "      <td>183129</td>\n",
       "      <td>82004</td>\n",
       "      <td>31</td>\n",
       "      <td>213779</td>\n",
       "      <td>12340</td>\n",
       "    </tr>\n",
       "  </tbody>\n",
       "</table>\n",
       "</div>"
      ],
      "text/plain": [
       "       actiontype ismydoc     ext                         sessionid  \\\n",
       "count      301861  301861  301861                            301861   \n",
       "unique          8       2      16                            114994   \n",
       "top          OPEN   False     PDF  6d4da731443c11cdd5bb986c58381172   \n",
       "freq       151802  183129   82004                                31   \n",
       "\n",
       "       documentposition   datetime  \n",
       "count            301861     301861  \n",
       "unique                7         30  \n",
       "top            OTHERAPP  2016.7.12  \n",
       "freq             213779      12340  "
      ]
     },
     "execution_count": 40,
     "metadata": {},
     "output_type": "execute_result"
    }
   ],
   "source": [
    "df2_pd.describe()"
   ]
  },
  {
   "cell_type": "markdown",
   "id": "painted-snapshot",
   "metadata": {},
   "source": [
    "### more reference: http://spark.apache.org/docs/latest/api/python/getting_started/index.html"
   ]
  },
  {
   "cell_type": "markdown",
   "id": "controversial-occurrence",
   "metadata": {},
   "source": [
    "## import modules"
   ]
  },
  {
   "cell_type": "code",
   "execution_count": 42,
   "id": "mature-wilson",
   "metadata": {},
   "outputs": [],
   "source": [
    "from pyspark.ml.feature import OneHotEncoder, StringIndexer, VectorAssembler, StandardScaler\n",
    "from pyspark.ml import Pipeline\n",
    "from pyspark.ml.classification import LogisticRegression\n",
    "from pyspark.sql.functions import col, stddev_samp"
   ]
  },
  {
   "cell_type": "markdown",
   "id": "racial-firmware",
   "metadata": {},
   "source": [
    "## read datafiles"
   ]
  },
  {
   "cell_type": "code",
   "execution_count": 44,
   "id": "unlike-thompson",
   "metadata": {},
   "outputs": [],
   "source": [
    "df = sqlContext.read.format('com.databricks.spark.csv')\\\n",
    "                    .options(header = 'true', inferSchema = 'true')\\\n",
    "                    .load('MachineLearning_Pyspark\\\\data\\\\Default.csv')\\\n",
    "                    .drop(\"_c0\")\\\n",
    "                    .cache()"
   ]
  },
  {
   "cell_type": "markdown",
   "id": "grand-highlight",
   "metadata": {},
   "source": [
    "## transform categorical values to int"
   ]
  },
  {
   "cell_type": "code",
   "execution_count": 45,
   "id": "successful-tract",
   "metadata": {},
   "outputs": [],
   "source": [
    "strIdx = StringIndexer(inputCol = \"student\", outputCol = \"studentIdx\")"
   ]
  },
  {
   "cell_type": "markdown",
   "id": "alpha-seafood",
   "metadata": {},
   "source": [
    "## one-hot encoding"
   ]
  },
  {
   "cell_type": "code",
   "execution_count": 47,
   "id": "looking-linux",
   "metadata": {},
   "outputs": [],
   "source": [
    "encode = OneHotEncoder(inputCol = \"studentIdx\", outputCol = \"StudentclassVec\")"
   ]
  },
  {
   "cell_type": "markdown",
   "id": "canadian-comedy",
   "metadata": {},
   "source": [
    "## transform categorical values to int"
   ]
  },
  {
   "cell_type": "code",
   "execution_count": 48,
   "id": "painful-assurance",
   "metadata": {},
   "outputs": [],
   "source": [
    "label_StrIdx = StringIndexer(inputCol = \"default\", outputCol = \"label\")"
   ]
  },
  {
   "cell_type": "markdown",
   "id": "dimensional-desire",
   "metadata": {},
   "source": [
    "## set stages for pipeline"
   ]
  },
  {
   "cell_type": "code",
   "execution_count": 72,
   "id": "italic-basic",
   "metadata": {},
   "outputs": [],
   "source": [
    "stages = [strIdx, encode, label_StrIdx]"
   ]
  },
  {
   "cell_type": "markdown",
   "id": "hungarian-device",
   "metadata": {},
   "source": [
    "## columns"
   ]
  },
  {
   "cell_type": "code",
   "execution_count": 57,
   "id": "designed-building",
   "metadata": {},
   "outputs": [],
   "source": [
    "numCols = ['income', 'balance']\n",
    "for c in numCols:\n",
    "    df = df.withColumn(c + \"Scaled\", col(c)/df.agg(stddev_samp(c)).first()[0])"
   ]
  },
  {
   "cell_type": "code",
   "execution_count": 64,
   "id": "random-anxiety",
   "metadata": {},
   "outputs": [
    {
     "data": {
      "text/plain": [
       "['default', 'student', 'balance', 'income', 'incomeScaled', 'balanceScaled']"
      ]
     },
     "execution_count": 64,
     "metadata": {},
     "output_type": "execute_result"
    }
   ],
   "source": [
    "df.columns"
   ]
  },
  {
   "cell_type": "markdown",
   "id": "executive-fraction",
   "metadata": {},
   "source": [
    "## set inputs and append it to the stage"
   ]
  },
  {
   "cell_type": "code",
   "execution_count": 73,
   "id": "fleet-liver",
   "metadata": {},
   "outputs": [],
   "source": [
    "inputs = [\"StudentclassVec\", \"incomeScaled\", \"balanceScaled\"]\n",
    "assembler = VectorAssembler(inputCols = inputs, outputCol = \"features\")\n",
    "stages += [assembler]"
   ]
  },
  {
   "cell_type": "markdown",
   "id": "perceived-atlantic",
   "metadata": {},
   "source": [
    "## create pipeline\n"
   ]
  },
  {
   "cell_type": "code",
   "execution_count": 75,
   "id": "outside-lincoln",
   "metadata": {
    "scrolled": true
   },
   "outputs": [],
   "source": [
    "pipeline = Pipeline(stages = stages)\n",
    "pipelineModel = pipeline.fit(df)\n",
    "dataset = pipelineModel.transform(df)"
   ]
  },
  {
   "cell_type": "code",
   "execution_count": 76,
   "id": "forbidden-reader",
   "metadata": {},
   "outputs": [],
   "source": [
    "originalCols = df.columns\n",
    "selectedScaledCols = [\"label\", \"features\"] + originalCols"
   ]
  },
  {
   "cell_type": "code",
   "execution_count": 77,
   "id": "increasing-pittsburgh",
   "metadata": {},
   "outputs": [],
   "source": [
    "dataset = dataset.select(selectedScaledCols)"
   ]
  },
  {
   "cell_type": "markdown",
   "id": "broken-colon",
   "metadata": {},
   "source": [
    "## cross validation and fit models\n"
   ]
  },
  {
   "cell_type": "code",
   "execution_count": 78,
   "id": "polar-scope",
   "metadata": {},
   "outputs": [],
   "source": [
    "(train, test) = dataset.randomSplit([0.7, 0.3], seed = 14)"
   ]
  },
  {
   "cell_type": "code",
   "execution_count": 80,
   "id": "ideal-purse",
   "metadata": {},
   "outputs": [
    {
     "name": "stdout",
     "output_type": "stream",
     "text": [
      "+-----+-----+\n",
      "|label|count|\n",
      "+-----+-----+\n",
      "|  0.0| 6693|\n",
      "|  1.0|  214|\n",
      "+-----+-----+\n",
      "\n",
      "+-----+-----+\n",
      "|label|count|\n",
      "+-----+-----+\n",
      "|  0.0| 2974|\n",
      "|  1.0|  119|\n",
      "+-----+-----+\n",
      "\n"
     ]
    }
   ],
   "source": [
    "train.groupby(\"label\").count().show()\n",
    "test.groupby(\"label\").count().show()"
   ]
  },
  {
   "cell_type": "code",
   "execution_count": 81,
   "id": "directed-gender",
   "metadata": {},
   "outputs": [],
   "source": [
    "lr = LogisticRegression(labelCol = \"label\", featuresCol = \"features\", maxIter = 10)"
   ]
  },
  {
   "cell_type": "code",
   "execution_count": 82,
   "id": "meaning-music",
   "metadata": {},
   "outputs": [],
   "source": [
    "lrModel = lr.fit(train)"
   ]
  },
  {
   "cell_type": "code",
   "execution_count": 84,
   "id": "addressed-niagara",
   "metadata": {},
   "outputs": [],
   "source": [
    "predictions = lrModel.transform(test)"
   ]
  },
  {
   "cell_type": "code",
   "execution_count": 85,
   "id": "monetary-strap",
   "metadata": {},
   "outputs": [
    {
     "name": "stdout",
     "output_type": "stream",
     "text": [
      "+-----+--------------------+-------+-------+-----------+-----------+-------------------+-------------------+--------------------+--------------------+----------+\n",
      "|label|            features|default|student|    balance|     income|       incomeScaled|      balanceScaled|       rawPrediction|         probability|prediction|\n",
      "+-----+--------------------+-------+-------+-----------+-----------+-------------------+-------------------+--------------------+--------------------+----------+\n",
      "|  0.0|[0.0,0.1905428126...|     No|    Yes|229.9887235|2541.200814| 0.1905428126813269| 0.4754633007699693|[9.22145192035202...|[0.99990111478356...|       0.0|\n",
      "|  0.0|[0.0,0.2026734184...|     No|    Yes|1019.647755|2702.982331|0.20267341846391734|  2.107951554481274|[5.21375071756283...|[0.99458821986213...|       0.0|\n",
      "|  0.0|[0.0,0.2235405353...|     No|    Yes|696.5835269|2981.279548| 0.2235405353782619| 1.4400701822316115|[6.86160209326446...|[0.99895386073337...|       0.0|\n",
      "|  0.0|[0.0,0.3281793975...|     No|    Yes|99.99761123|4376.810337| 0.3281793975470867|0.20672837163917712|[9.92565602143502...|[0.99995109861916...|       0.0|\n",
      "|  0.0|[0.0,0.3497556505...|     No|    Yes|1241.061898|4664.565047| 0.3497556505939266|  2.565688341163052|[4.13578131527655...|[0.98426149444412...|       0.0|\n",
      "|  0.0|[0.0,0.3838107438...|     No|    Yes|335.3579479|5118.745551| 0.3838107438476401| 0.6932965861170902|[8.74771373364018...|[0.99984120119669...|       0.0|\n",
      "|  0.0|[0.0,0.4142253949...|     No|    Yes|1225.345971| 5524.37479|0.41422539493662175| 2.5331982850752377|[4.23615193344970...|[0.98574306009479...|       0.0|\n",
      "|  0.0|[0.0,0.4574415596...|     No|    Yes|919.4754847|6100.733202| 0.4574415596450528| 1.9008621043654317|[5.80377453647173...|[0.99699292112750...|       0.0|\n",
      "|  0.0|[0.0,0.4772989887...|     No|    Yes|468.2576618|6365.564576|0.47729898870387266| 0.9680445636729488|[8.10234029024537...|[0.99969726207902...|       0.0|\n",
      "|  0.0|[0.0,0.4849159814...|     No|    Yes| 1886.55057|6467.149663| 0.4849159814644682| 3.9001284386087174|[0.89966465267524...|[0.71088058377193...|       0.0|\n",
      "|  0.0|[0.0,0.4936681693...|     No|    Yes|1051.425965|6583.874438|0.49366816933390545|  2.173647699880165|[5.14498710747854...|[0.99420522562113...|       0.0|\n",
      "|  0.0|[0.0,0.5056777903...|     No|    Yes|1220.938831|6744.042425| 0.5056777903667461| 2.5240872586759138|[4.28766574043279...|[0.98644919328505...|       0.0|\n",
      "|  0.0|[0.0,0.5088529279...|     No|    Yes|1010.506784| 6786.38809|  0.508852927911764| 2.0890541225647805|[5.35769746683302...|[0.99531035383479...|       0.0|\n",
      "|  0.0|[0.0,0.5237553217...|     No|    Yes|1809.926564|6985.135945| 0.5237553217318222|  3.741721094733104|[1.30129320385870...|[0.78605254668314...|       0.0|\n",
      "|  0.0|[0.0,0.5272737540...|     No|    Yes|1343.243517|7032.060009| 0.5272737540759882|  2.776931784356299|[3.67322067997766...|[0.97523436186607...|       0.0|\n",
      "|  0.0|[0.0,0.5461468093...|     No|    Yes|909.1019937|7283.763145| 0.5461468093772174|  1.879416643056249|[5.88472324816384...|[0.99722609998834...|       0.0|\n",
      "|  0.0|[0.0,0.5617276028...|     No|    Yes|919.5885305|7491.558572| 0.5617276028764033| 1.9010958076896132|[5.83641239996516...|[0.99708920035725...|       0.0|\n",
      "|  0.0|[0.0,0.5819546150...|     No|    Yes|1436.329318|7761.318943| 0.5819546150657274| 2.9693711419245252|[3.21774773122914...|[0.96149672037067...|       0.0|\n",
      "|  0.0|[0.0,0.6114163718...|     No|    Yes|1678.382001|8154.239774| 0.6114163718412485|  3.469774665488614|[1.99747323280115...|[0.88053152826337...|       0.0|\n",
      "|  0.0|[0.0,0.6410350325...|     No|    Yes|1260.494009|8549.253176| 0.6410350325347437| 2.6058609874405927|[4.12982804499837...|[0.98416900713296...|       0.0|\n",
      "+-----+--------------------+-------+-------+-----------+-----------+-------------------+-------------------+--------------------+--------------------+----------+\n",
      "only showing top 20 rows\n",
      "\n"
     ]
    }
   ],
   "source": [
    "predictions.show()"
   ]
  },
  {
   "cell_type": "markdown",
   "id": "independent-handy",
   "metadata": {},
   "source": [
    "## evaluation"
   ]
  },
  {
   "cell_type": "code",
   "execution_count": 86,
   "id": "practical-testament",
   "metadata": {},
   "outputs": [],
   "source": [
    "from pyspark.ml.evaluation import BinaryClassificationEvaluator\n",
    "from pyspark.ml.tuning import ParamGridBuilder, CrossValidator"
   ]
  },
  {
   "cell_type": "code",
   "execution_count": 87,
   "id": "municipal-pharmacology",
   "metadata": {},
   "outputs": [],
   "source": [
    "evaluator = BinaryClassificationEvaluator(rawPredictionCol = \"rawPrediction\")"
   ]
  },
  {
   "cell_type": "code",
   "execution_count": 89,
   "id": "painful-wrestling",
   "metadata": {},
   "outputs": [
    {
     "name": "stdout",
     "output_type": "stream",
     "text": [
      "areaUnderROC The AUC of the Model is 0.9563499912406146\n",
      "The AUC under PR curve is 0.5854049032047725\n"
     ]
    }
   ],
   "source": [
    "print(evaluator.getMetricName(), \"The AUC of the Model is {}\".format(evaluator.evaluate(predictions)))\n",
    "print(\"The AUC under PR curve is {}\".format(evaluator.evaluate(predictions, {evaluator.metricName: \"areaUnderPR\"})))"
   ]
  },
  {
   "cell_type": "code",
   "execution_count": 91,
   "id": "common-champagne",
   "metadata": {},
   "outputs": [
    {
     "data": {
      "text/plain": [
       "'areaUnderROC'"
      ]
     },
     "execution_count": 91,
     "metadata": {},
     "output_type": "execute_result"
    }
   ],
   "source": [
    "evaluator.getMetricName()"
   ]
  },
  {
   "cell_type": "code",
   "execution_count": 92,
   "id": "formal-wrong",
   "metadata": {},
   "outputs": [
    {
     "name": "stdout",
     "output_type": "stream",
     "text": [
      "Model Intercept:  [-10.329140276751733]\n",
      "Model coefficientMatrix:  DenseMatrix([[ 1.70374694, -0.31847167,  2.45733128]])\n",
      "\n"
     ]
    }
   ],
   "source": [
    "print('Model Intercept: ', lrModel.interceptVector)\n",
    "print('Model coefficientMatrix: ', lrModel.coefficientMatrix)"
   ]
  },
  {
   "cell_type": "markdown",
   "id": "rational-session",
   "metadata": {},
   "source": [
    "## grid search for parametor tuning\n"
   ]
  },
  {
   "cell_type": "code",
   "execution_count": 96,
   "id": "exotic-delicious",
   "metadata": {},
   "outputs": [],
   "source": [
    "paramGrid = (ParamGridBuilder()\n",
    "            .addGrid(lr.regParam, [0.01, 0.05, 0.1, 0.5, 2.0])\n",
    "            .addGrid(lr.elasticNetParam, [0.0, 0.1, 0.5, 1.0])\n",
    "            .addGrid(lr.maxIter, [1, 5, 10, 20])\n",
    "            .build())"
   ]
  },
  {
   "cell_type": "code",
   "execution_count": 98,
   "id": "amino-matrix",
   "metadata": {},
   "outputs": [
    {
     "name": "stdout",
     "output_type": "stream",
     "text": [
      "aggregationDepth: suggested depth for treeAggregate (>= 2). (default: 2)\n",
      "elasticNetParam: the ElasticNet mixing parameter, in range [0, 1]. For alpha = 0, the penalty is an L2 penalty. For alpha = 1, it is an L1 penalty. (default: 0.0)\n",
      "family: The name of family which is a description of the label distribution to be used in the model. Supported options: auto, binomial, multinomial (default: auto)\n",
      "featuresCol: features column name. (default: features, current: features)\n",
      "fitIntercept: whether to fit an intercept term. (default: True)\n",
      "labelCol: label column name. (default: label, current: label)\n",
      "lowerBoundsOnCoefficients: The lower bounds on coefficients if fitting under bound constrained optimization. The bound matrix must be compatible with the shape (1, number of features) for binomial regression, or (number of classes, number of features) for multinomial regression. (undefined)\n",
      "lowerBoundsOnIntercepts: The lower bounds on intercepts if fitting under bound constrained optimization. The bounds vector size must beequal with 1 for binomial regression, or the number oflasses for multinomial regression. (undefined)\n",
      "maxBlockSizeInMB: maximum memory in MB for stacking input data into blocks. Data is stacked within partitions. If more than remaining data size in a partition then it is adjusted to the data size. Default 0.0 represents choosing optimal value, depends on specific algorithm. Must be >= 0. (default: 0.0)\n",
      "maxIter: max number of iterations (>= 0). (default: 100, current: 10)\n",
      "predictionCol: prediction column name. (default: prediction)\n",
      "probabilityCol: Column name for predicted class conditional probabilities. Note: Not all models output well-calibrated probability estimates! These probabilities should be treated as confidences, not precise probabilities. (default: probability)\n",
      "rawPredictionCol: raw prediction (a.k.a. confidence) column name. (default: rawPrediction)\n",
      "regParam: regularization parameter (>= 0). (default: 0.0)\n",
      "standardization: whether to standardize the training features before fitting the model. (default: True)\n",
      "threshold: Threshold in binary classification prediction, in range [0, 1]. If threshold and thresholds are both set, they must match.e.g. if threshold is p, then thresholds must be equal to [1-p, p]. (default: 0.5)\n",
      "thresholds: Thresholds in multi-class classification to adjust the probability of predicting each class. Array must have length equal to the number of classes, with values > 0, excepting that at most one value may be 0. The class with largest value p/t is predicted, where p is the original probability of that class and t is the class's threshold. (undefined)\n",
      "tol: the convergence tolerance for iterative algorithms (>= 0). (default: 1e-06)\n",
      "upperBoundsOnCoefficients: The upper bounds on coefficients if fitting under bound constrained optimization. The bound matrix must be compatible with the shape (1, number of features) for binomial regression, or (number of classes, number of features) for multinomial regression. (undefined)\n",
      "upperBoundsOnIntercepts: The upper bounds on intercepts if fitting under bound constrained optimization. The bound vector size must be equal with 1 for binomial regression, or the number of classes for multinomial regression. (undefined)\n",
      "weightCol: weight column name. If this is not set or empty, we treat all instance weights as 1.0. (undefined)\n"
     ]
    }
   ],
   "source": [
    "print(lr.explainParams())"
   ]
  },
  {
   "cell_type": "code",
   "execution_count": 99,
   "id": "interim-blame",
   "metadata": {},
   "outputs": [],
   "source": [
    "cv = CrossValidator(estimator = lr, estimatorParamMaps = paramGrid, evaluator = evaluator, numFolds = 5)"
   ]
  },
  {
   "cell_type": "code",
   "execution_count": 100,
   "id": "recreational-liberty",
   "metadata": {},
   "outputs": [],
   "source": [
    "cvModel = cv.fit(train)\n",
    "predictions = cvModel.transform(test)"
   ]
  },
  {
   "cell_type": "code",
   "execution_count": 101,
   "id": "finished-closing",
   "metadata": {},
   "outputs": [
    {
     "data": {
      "text/plain": [
       "0.9584776748628219"
      ]
     },
     "execution_count": 101,
     "metadata": {},
     "output_type": "execute_result"
    }
   ],
   "source": [
    "evaluator.evaluate(predictions)"
   ]
  },
  {
   "cell_type": "code",
   "execution_count": 102,
   "id": "bronze-smooth",
   "metadata": {
    "scrolled": true
   },
   "outputs": [
    {
     "name": "stdout",
     "output_type": "stream",
     "text": [
      "Model Intercept:  -7.423921954722778\n",
      "Model coefficientMatrix:  DenseMatrix([[0.08886351, 0.10043084, 1.53323191]])\n",
      "\n"
     ]
    }
   ],
   "source": [
    "print('Model Intercept: ', cvModel.bestModel.intercept)\n",
    "print('Model coefficientMatrix: ', cvModel.bestModel.coefficientMatrix)"
   ]
  }
 ],
 "metadata": {
  "hide_input": false,
  "kernelspec": {
   "display_name": "Python 3",
   "language": "python",
   "name": "python3"
  },
  "language_info": {
   "codemirror_mode": {
    "name": "ipython",
    "version": 3
   },
   "file_extension": ".py",
   "mimetype": "text/x-python",
   "name": "python",
   "nbconvert_exporter": "python",
   "pygments_lexer": "ipython3",
   "version": "3.7.10"
  }
 },
 "nbformat": 4,
 "nbformat_minor": 5
}
